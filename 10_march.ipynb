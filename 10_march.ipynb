{
 "cells": [
  {
   "cell_type": "code",
   "execution_count": 1,
   "id": "f3cf37bb-8e64-4fdc-8428-7380e940a798",
   "metadata": {},
   "outputs": [
    {
     "data": {
      "text/plain": [
       "'Ans1: Estimation statistics is the statistics in which we estimate the some population parameter by using the\\n        sample data out of population data.\\n        \\n        Point estimation:- In this type of estimation we try to estimate the population exact to a value or a single \\n                            value for example, if we try to estimate the average height of people as 140.\\n        \\n        Interval estimation:- In this type of estimation we try to estimate the population within some range so that\\n                             the margin of error is minimized for example, if we try to estimate the average height of\\n                             people as between 130 to 150.\\n'"
      ]
     },
     "execution_count": 1,
     "metadata": {},
     "output_type": "execute_result"
    }
   ],
   "source": [
    "'''Ans1: Estimation statistics is the statistics in which we estimate the some population parameter by using the\n",
    "        sample data out of population data.\n",
    "        \n",
    "        Point estimation:- In this type of estimation we try to estimate the population exact to a value or a single \n",
    "                            value for example, if we try to estimate the average height of people as 140.\n",
    "        \n",
    "        Interval estimation:- In this type of estimation we try to estimate the population within some range so that\n",
    "                             the margin of error is minimized for example, if we try to estimate the average height of\n",
    "                             people as between 130 to 150.\n",
    "'''"
   ]
  },
  {
   "cell_type": "code",
   "execution_count": null,
   "id": "dd11c53f-28e1-4bce-92a9-25868d2ad0fc",
   "metadata": {},
   "outputs": [],
   "source": [
    "#Ans2\n",
    "import math\n",
    "def population_mean(sample_mean,std,size):\n",
    "    std_error=std/math.sqrt(size)\n",
    "    est=std_error+sample_mean\n",
    "    return est"
   ]
  },
  {
   "cell_type": "code",
   "execution_count": null,
   "id": "026b7d39-2ca4-46ba-aa2a-2cdffa78267b",
   "metadata": {},
   "outputs": [],
   "source": [
    "'''Ans3: Hypothesis testing is the way of of inferecing that use the data from the sample to make some conclusion \n",
    "        on the population data.\n",
    "        \n",
    "        It is used for making the conclusion on from the population data without taking the whole data into the \n",
    "        consideration.\n",
    "        \n",
    "        The importance of hypothesis testing are:\n",
    "        \n",
    "        i. It helps to find any observed effect is it random or there is some probablistic reason behind it.\n",
    "        ii. It helps to eliminate the parameters which are not so important.\n",
    "        iii. It helps to conclude the population data with using it all.\n",
    "'''"
   ]
  },
  {
   "cell_type": "code",
   "execution_count": null,
   "id": "f25dfb63-62d6-4efb-be9c-9b5a2bef3806",
   "metadata": {},
   "outputs": [],
   "source": [
    "'''Ans4: Null hypothesis: The average weight of the male college students is same as the average weight of the female\n",
    "                            college students.\n",
    "            \n",
    "        Alternative hypothesis: The average weight of the male college students is greater then average weight of the\n",
    "                                female college students.\n",
    "                                \n",
    "'''"
   ]
  },
  {
   "cell_type": "code",
   "execution_count": 5,
   "id": "8e5155b0-29c1-402a-ad17-cef85db31ef5",
   "metadata": {},
   "outputs": [
    {
     "name": "stdout",
     "output_type": "stream",
     "text": [
      "0.259500770044681\n",
      "0.7958025420527748\n",
      "The mean are not equal\n"
     ]
    }
   ],
   "source": [
    "#Ans5:\n",
    "from scipy.stats import ttest_ind\n",
    "import numpy as np\n",
    "\n",
    "sample1=np.random.normal(50,10,size=50)\n",
    "sample2=np.random.normal(50,10,size=50)\n",
    "\n",
    "t_stats,p_value=ttest_ind(sample1,sample2,equal_var=False)\n",
    "\n",
    "significance=0.05\n",
    "\n",
    "print(t_stats)\n",
    "print(p_value)\n",
    "\n",
    "if (p_value>significance or p_value<significance):\n",
    "    print('The mean are not equal')\n",
    "else:\n",
    "    print('The means are equal')\n"
   ]
  },
  {
   "cell_type": "code",
   "execution_count": 1,
   "id": "f14bf3d4-7039-4fd4-ba0b-c29da755dabb",
   "metadata": {},
   "outputs": [
    {
     "data": {
      "text/plain": [
       "\"Ans6: Null hypothesis: In this type of hypothesis we take the assumption right by which we are starting \\n         \\n         Alternative hypothesis: In this type of hypothesis we take assumption opposite to the null hypothesis.\\n         \\n         for example: let's take a class of students and two teachers make prediction about the heights, the first \\n                      teacher say's average height is 160 cm and the second teacher say's that the average height is \\n                      not 160 then,\\n                      \\n                      Null hypothesis is the prediction made by first teacher i.e. average height is 160.\\n                      Alternative hypothesis is prediction made by the second teacher i.e. average height is not 160 \\n                      either it is greater or less then 160.\\n\""
      ]
     },
     "execution_count": 1,
     "metadata": {},
     "output_type": "execute_result"
    }
   ],
   "source": [
    "'''Ans6: Null hypothesis: In this type of hypothesis we take the assumption right by which we are starting \n",
    "         \n",
    "         Alternative hypothesis: In this type of hypothesis we take assumption opposite to the null hypothesis.\n",
    "         \n",
    "         for example: let's take a class of students and two teachers make prediction about the heights, the first \n",
    "                      teacher say's average height is 160 cm and the second teacher say's that the average height is \n",
    "                      not 160 then,\n",
    "                      \n",
    "                      Null hypothesis is the prediction made by first teacher i.e. average height is 160.\n",
    "                      Alternative hypothesis is prediction made by the second teacher i.e. average height is not 160 \n",
    "                      either it is greater or less then 160.\n",
    "'''"
   ]
  },
  {
   "cell_type": "code",
   "execution_count": 3,
   "id": "58d55441-0810-415f-b202-8be62c7a5e18",
   "metadata": {},
   "outputs": [
    {
     "data": {
      "text/plain": [
       "'Ans7: The steps involved in hypothesis testing are:\\n            \\n            i. Assigning Null hypothesis: In this step we do certain assumption for the null hypothesis and this \\n               situation will remain true untill the assumption is not proved wrong.\\n            ii. Assigning Alternative hypothesis: In this step we do the assumpotion for the alternative hypothesis\\n                and this assumption is opposite of the null hypothesis.\\n            iii. Expermentiation: In this step we do statistical analysis on the data to prove either of the hypothesis\\n                 by using the various techniques such as z-test, t-test, chi test, p-test etc.\\n'"
      ]
     },
     "execution_count": 3,
     "metadata": {},
     "output_type": "execute_result"
    }
   ],
   "source": [
    "'''Ans7: The steps involved in hypothesis testing are:\n",
    "            \n",
    "            i. Assigning Null hypothesis: In this step we do certain assumption for the null hypothesis and this \n",
    "               situation will remain true untill the assumption is not proved wrong.\n",
    "            ii. Assigning Alternative hypothesis: In this step we do the assumpotion for the alternative hypothesis\n",
    "                and this assumption is opposite of the null hypothesis.\n",
    "            iii. Expermentiation: In this step we do statistical analysis on the data to prove either of the hypothesis\n",
    "                 by using the various techniques such as z-test, t-test, chi test, p-test etc.\n",
    "'''"
   ]
  },
  {
   "cell_type": "code",
   "execution_count": 1,
   "id": "1837b5a0-9469-4401-9d12-47bd6dcae932",
   "metadata": {},
   "outputs": [
    {
     "data": {
      "text/plain": [
       "'Ans8: The p value is the statistical value which is used to validate the hypothesis whether it is null or alternative.\\n         \\n         If p value is greater then the significant value then the we go with the null hypothesis, else if the p\\n         value is smaller then the significant value then we go with alternative hypothesis.\\n         \\n'"
      ]
     },
     "execution_count": 1,
     "metadata": {},
     "output_type": "execute_result"
    }
   ],
   "source": [
    "'''Ans8: The p value is the statistical value which is used to validate the hypothesis whether it is null or alternative.\n",
    "         \n",
    "         If p value is greater then the significant value then the we go with the null hypothesis, else if the p\n",
    "         value is smaller then the significant value then we go with alternative hypothesis.\n",
    "         \n",
    "'''"
   ]
  },
  {
   "cell_type": "code",
   "execution_count": 1,
   "id": "95ac4d86-bf46-4281-ac46-a716256ac8a7",
   "metadata": {},
   "outputs": [
    {
     "data": {
      "image/png": "[encoded data removed]",
      "text/plain": [
       "<Figure size 640x480 with 1 Axes>"
      ]
     },
     "metadata": {},
     "output_type": "display_data"
    }
   ],
   "source": [
    "#Ans9:\n",
    "import matplotlib.pyplot as pt\n",
    "import numpy as np\n",
    "\n",
    "# y=np.linspace(-5,5,11)\n",
    "\n",
    "# y={'0.5':0.000,'0.25':0.700,'0.20':0.879,'0.15':1.093,'0.10':1.372,'0.05':1.812,'0.025':2.228,'0.01':2.764,'0.005':3.169,'0.001':4.144,'0.0005':4.587}\n",
    "x_lbl=[0.50,0.25, 0.20, 0.15, 0.10, 0.05, 0.025, 0.01, 0.005, 0.001, 0.0005]\n",
    "data=[ 0.000, 0.700, 0.879, 1.093, 1.372, 1.812, 2.228, 2.764, 3.169, 4.144, 4.587]\n",
    "\n",
    "pt.plot(x_lbl,data)\n",
    "pt.show()\n"
   ]
  },
  {
   "cell_type": "code",
   "execution_count": 25,
   "id": "2023926e-cc2a-48a9-b05f-c371e4baa87a",
   "metadata": {},
   "outputs": [
    {
     "name": "stdout",
     "output_type": "stream",
     "text": [
      "we are accepting null hypothesis\n"
     ]
    }
   ],
   "source": [
    "#Ans10:\n",
    "import scipy.stats as stats\n",
    "samp1=np.random.normal(22,202,100)\n",
    "samp2=np.random.normal(20,200,100)\n",
    "\n",
    "# t,p_value=ttest_1samp(a=mean1,popmean=mean2)\\\n",
    "t,p_value=stats.ttest_ind(samp1,samp2)\n",
    "\n",
    "if p_value<0.05:\n",
    "    print('we are rejecting null hypothesis')\n",
    "else:\n",
    "    print('we are accepting null hypothesis')\n"
   ]
  },
  {
   "cell_type": "code",
   "execution_count": 26,
   "id": "be587d04-86bb-410d-b849-cbd169ed1574",
   "metadata": {},
   "outputs": [
    {
     "data": {
      "text/plain": [
       "\"Ans11: It is a type of statistical distribution which is used to predict the hypothesis by using the sample standard\\n        deviation.\\n        The t-distribution is used when we don't know the population standard deviation and we want to test any\\n        hypothesis.\\n        \\n\""
      ]
     },
     "execution_count": 26,
     "metadata": {},
     "output_type": "execute_result"
    }
   ],
   "source": [
    "'''Ans11: It is a type of statistical distribution which is used to predict the hypothesis by using the sample standard\n",
    "        deviation. It is similar to the normal distribution but with steeper tails.\n",
    "        \n",
    "        The t-distribution is used when we don't know the population standard deviation and we want to test any\n",
    "        hypothesis.\n",
    "        \n",
    "'''"
   ]
  },
  {
   "cell_type": "code",
   "execution_count": 27,
   "id": "24eb14f3-722b-42a3-90a1-77d20ffeaf58",
   "metadata": {},
   "outputs": [
    {
     "data": {
      "text/plain": [
       "'Ans12: t-statistics is the measure of the difference betweent the sample mean and the null hypothesis for \\n            evaluation of hypothesis.\\n            It is expressed mathematically as:  _\\n                                               (x-mu)/(s/sqrt(n))\\n                                                      _\\n                                                where x is sample mean\\n                                                      mu is population mean\\n                                                      s is sample std\\n                                                      n is number of sample data\\n                                                      \\n'"
      ]
     },
     "execution_count": 27,
     "metadata": {},
     "output_type": "execute_result"
    }
   ],
   "source": [
    "'''Ans12: t-statistics is the measure of the difference betweent the sample mean and the null hypothesis for \n",
    "            evaluation of hypothesis.\n",
    "            It is expressed mathematically as:  _\n",
    "                                               (x-mu)/(s/sqrt(n))\n",
    "                                                      _\n",
    "                                                where x is sample mean\n",
    "                                                      mu is population mean\n",
    "                                                      s is sample std\n",
    "                                                      n is number of sample data\n",
    "                                                      \n",
    "'''"
   ]
  },
  {
   "cell_type": "code",
   "execution_count": 28,
   "id": "dc25d4c0-9ea7-4998-8bcb-36a63444fa17",
   "metadata": {},
   "outputs": [
    {
     "data": {
      "text/plain": [
       "'Ans13: given, n=50\\n                 x_bar=500\\n                 s=50\\n                 CI=95%\\n                 \\n                 dof=n-1=49\\n                 \\n                 using t test,\\n                     \\n                     t=x_bar-mu/(s/sqrt(n))\\n                 \\n                 from t table t=-2.01 and 2.01\\n                     -2.01=500-mu/(50/sqrt(50))\\n                     mu=500_+14.21\\n                 \\n                 SO  answer is mu is under the range of (485.78,514.21)\\n'"
      ]
     },
     "execution_count": 28,
     "metadata": {},
     "output_type": "execute_result"
    }
   ],
   "source": [
    "'''Ans13: given, n=50\n",
    "                 x_bar=500\n",
    "                 s=50\n",
    "                 CI=95%\n",
    "                 \n",
    "                 dof=n-1=49\n",
    "                 \n",
    "                 using t test,\n",
    "                     \n",
    "                     t=x_bar-mu/(s/sqrt(n))\n",
    "                 \n",
    "                 from t table t=-2.01 and 2.01\n",
    "                     -2.01=500-mu/(50/sqrt(50))\n",
    "                     mu=500_+14.21\n",
    "                 \n",
    "                 SO  answer is mu is under the range of (485.78,514.21)\n",
    "'''"
   ]
  },
  {
   "cell_type": "code",
   "execution_count": 29,
   "id": "5bd68023-ab50-4290-950f-c98403bcc468",
   "metadata": {},
   "outputs": [
    {
     "data": {
      "text/plain": [
       "'Ans14: given, mu=10\\n                 n=100\\n                 x_bar=8\\n                 s=3\\n                 s.v.=0.05\\n                 \\n                 dof=99\\n                 null hypothesis is mu=10mmHg\\n                 \\n                 fromt the t-chart at dof=99 and s.v.=0.05, \\n                 the t value should be between -1.984 and 1.984 to accept null hypothesis\\n                 calculating t value using t formula, t=(x_bar-mu)/(s/sqrt(n))\\n                 \\n                 t=(8-10)/(3/sqrt(100))\\n                 t=-6.66 \\n                 t<-1.984\\n                 \\n                 So null hypothesis is rejected.\\n'"
      ]
     },
     "execution_count": 29,
     "metadata": {},
     "output_type": "execute_result"
    }
   ],
   "source": [
    "'''Ans14: given, mu=10\n",
    "                 n=100\n",
    "                 x_bar=8\n",
    "                 s=3\n",
    "                 s.v.=0.05\n",
    "                 \n",
    "                 dof=99\n",
    "                 null hypothesis is mu=10mmHg\n",
    "                 \n",
    "                 fromt the t-chart at dof=99 and s.v.=0.05, \n",
    "                 the t value should be between -1.984 and 1.984 to accept null hypothesis\n",
    "                 calculating t value using t formula, t=(x_bar-mu)/(s/sqrt(n))\n",
    "                 \n",
    "                 t=(8-10)/(3/sqrt(100))\n",
    "                 t=-6.66 \n",
    "                 t<-1.984\n",
    "                 \n",
    "                 So null hypothesis is rejected.\n",
    "'''"
   ]
  },
  {
   "cell_type": "code",
   "execution_count": 1,
   "id": "ca6f786d-ddac-4eed-b6cb-f820436b04d7",
   "metadata": {},
   "outputs": [
    {
     "data": {
      "text/plain": [
       "'Ans15: given mu=5\\n                std=0.5\\n                n=25\\n                x_bar=4.8 \\n                s.v.=0.01\\n                null hypothesis is value is true mean is 5\\n                \\n                \\n                by using z table we get critical value as -3.1\\n                \\n                z=(4.8-5)/(0.5/5)=(-0.2*5)/0.5=-2\\n                \\n                since -2>-3.1 so hypothesis is rejected \\n                i.e. true mean is less then 5\\n'"
      ]
     },
     "execution_count": 1,
     "metadata": {},
     "output_type": "execute_result"
    }
   ],
   "source": [
    "'''Ans15: given mu=5\n",
    "                std=0.5\n",
    "                n=25\n",
    "                x_bar=4.8 \n",
    "                s.v.=0.01\n",
    "                null hypothesis is value is true mean is 5\n",
    "                \n",
    "                \n",
    "                by using z table we get critical value as -3.1\n",
    "                \n",
    "                z=(4.8-5)/(0.5/5)=(-0.2*5)/0.5=-2\n",
    "                \n",
    "                since -2>-3.1 so hypothesis is rejected \n",
    "                i.e. true mean is less then 5\n",
    "'''"
   ]
  },
  {
   "cell_type": "code",
   "execution_count": null,
   "id": "b27a4f51-64ff-4bb8-9c8d-9046672da72e",
   "metadata": {},
   "outputs": [],
   "source": [
    "'''Ans16: given n1=30\n",
    "                x_bar1=80\n",
    "                s1=10\n",
    "                n2=40\n",
    "                x_bar2=75\n",
    "                s2=8\n",
    "                S.L.=0.01\n",
    "                The null hypothesis (H0) is that the population means for the two groups are equal. \n",
    "                The alternative hypothesis (Ha) is that the population means for the two groups are not equal.\n",
    "                Using the formula for the two-sample t-test with unequal variances, we can calculate the test statistic:\n",
    "\n",
    "                t = (x̄1 - x̄2) / sqrt(s1^2/n1 + s2^2/n2)\n",
    "                t = (80 - 75) / sqrt(10^2/30 + 8^2/40) = 2.26\n",
    "                \n",
    "                dof of two sample data with unequal variance\n",
    "                df = [(s1^2/n1 + s2^2/n2)^2] / [((s1^2/n1)^2)/(n1 - 1) + ((s2^2/n2)^2)/(n2 - 1)]\n",
    "                df = [(10^2/30 + 8^2/40)^2] / [((10^2/30)^2)/(30 - 1) + ((8^2/40)^2)/(40 - 1)] = 64.7 \n",
    "                \n",
    "                the critical value using t table for two tail test with S.L=.01 are ±2.648.\n",
    "                \n",
    "                since the t is between critical value so we failed to reject the null hypothesis\n",
    "\n",
    "'''"
   ]
  },
  {
   "cell_type": "code",
   "execution_count": 1,
   "id": "61360596-37be-493e-94d2-d1d6b086dc01",
   "metadata": {},
   "outputs": [
    {
     "data": {
      "text/plain": [
       "'Ans17: given, n=50\\n                 x_bar=4\\n                 s=1.5\\n                 CI=0.99\\n                 we have to find population mean(mu)\\n                 \\n                 now, \\n                     dof=50-1=49\\n                     critical value using t table at CI=0.99 are -2.681 and +2.681\\n                     now using t value formula,\\n                     x_bar-mu=(-2.681*1.5)/sqrt(50)\\n                     x_bar+mu=(2.681*1.5)/sqrt(50)\\n                         \\n                     mu<4+0.5687\\n                     mu>4-0.5687\\n                     so the answer is between 3.464 and 4.5687\\n'"
      ]
     },
     "execution_count": 1,
     "metadata": {},
     "output_type": "execute_result"
    }
   ],
   "source": [
    "'''Ans17: given, n=50\n",
    "                 x_bar=4\n",
    "                 s=1.5\n",
    "                 CI=0.99\n",
    "                 we have to find population mean(mu)\n",
    "                 \n",
    "                 now, \n",
    "                     dof=50-1=49\n",
    "                     critical value using t table at CI=0.99 are -2.681 and +2.681\n",
    "                     now using t value formula,\n",
    "                     x_bar-mu=(-2.681*1.5)/sqrt(50)\n",
    "                     x_bar+mu=(2.681*1.5)/sqrt(50)\n",
    "                         \n",
    "                     mu<4+0.5687\n",
    "                     mu>4-0.5687\n",
    "                     so the answer is between 3.464 and 4.5687\n",
    "'''"
   ]
  },
  {
   "cell_type": "code",
   "execution_count": null,
   "id": "4fdf9965-1397-4339-a58d-ca56e9c2ae33",
   "metadata": {},
   "outputs": [],
   "source": []
  }
 ],
 "metadata": {
  "kernelspec": {
   "display_name": "Python 3 (ipykernel)",
   "language": "python",
   "name": "python3"
  },
  "language_info": {
   "codemirror_mode": {
    "name": "ipython",
    "version": 3
   },
   "file_extension": ".py",
   "mimetype": "text/x-python",
   "name": "python",
   "nbconvert_exporter": "python",
   "pygments_lexer": "ipython3",
   "version": "3.10.8"
  }
 },
 "nbformat": 4,
 "nbformat_minor": 5
}
